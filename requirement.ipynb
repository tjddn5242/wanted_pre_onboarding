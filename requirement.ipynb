{
  "nbformat": 4,
  "nbformat_minor": 0,
  "metadata": {
    "colab": {
      "name": "requirement.ipynb",
      "provenance": [],
      "collapsed_sections": [],
      "toc_visible": true,
      "authorship_tag": "ABX9TyOTenNoGd09pvjVDkB0cXu1"
    },
    "kernelspec": {
      "name": "python3",
      "display_name": "Python 3"
    },
    "language_info": {
      "name": "python"
    }
  },
  "cells": [
    {
      "cell_type": "markdown",
      "source": [
        "## 과제 안내\n",
        "\n",
        "- 아래 설명에 따라 코드의 빈칸을 채워 Tokenizer(문제 1)와 TfidfVectorizer(문제 2) 클래스를 완성하세요.\n",
        "    - 문제 1, 문제 2 모두 수행해야 합니다.\n",
        "    - 주어진 조건을 모두 만족해야 합니다.\n",
        "- 작업한 파일을 하나의 GitHub Repository에 담아서 제출하세요.\n",
        "    - 파일 형식: `.ipynb`\n",
        "        - `.ipynb` 파일 하나에 문제 1과 문제 2 작업 결과를 모두 담아 주시기 바랍니다.\n",
        "    - 링크 제출 전 해당 GitHub Repository가 public으로 설정되어 있는지 확인 바랍니다.\n",
        "        - private으로 설정 시 제출 확인이 불가합니다."
      ],
      "metadata": {
        "id": "ZTHvm2RTzybw"
      }
    },
    {
      "cell_type": "markdown",
      "source": [
        "### **문제 1) Tokenizer 생성하기**\n",
        "\n",
        "**1-1. `preprocessing()`**\n",
        "\n",
        "텍스트 전처리를 하는 함수입니다.\n",
        "\n",
        "- input: 여러 영어 문장이 포함된 list 입니다. ex) ['I go to school.', 'I LIKE pizza!']\n",
        "- output: 각 문장을 토큰화한 결과로, nested list 형태입니다. ex) [['i', 'go', 'to', 'school'], ['i', 'like', 'pizza']]\n",
        "- 조건 1: 입력된 문장에 대해서 소문자로의 변환과 특수문자 제거를 수행합니다.\n",
        "- 조건 2: 토큰화는 white space 단위로 수행합니다.\n",
        "    \n",
        "    \n",
        "\n",
        "**1-2. `fit()`**\n",
        "\n",
        "어휘 사전을 구축하는 함수입니다.\n",
        "\n",
        "- input: 여러 영어 문장이 포함된 list 입니다. ex) ['I go to school.', 'I LIKE pizza!']\n",
        "- 조건 1: 위에서 만든 `preprocessing` 함수를 이용하여 각 문장에 대해 토큰화를 수행합니다.\n",
        "- 조건 2: 각각의 토큰을 정수 인덱싱 하기 위한 어휘 사전(`self.word_dict`)을 생성합니다.\n",
        "    - 주어진 코드에 있는 `self.word_dict`를 활용합니다.\n",
        "    \n",
        "\n",
        "**1-3. `transform()`**\n",
        "\n",
        "어휘 사전을 활용하여 입력 문장을 정수 인덱싱하는 함수입니다.\n",
        "\n",
        "- input: 여러 영어 문장이 포함된 list입니다. ex) ['I go to school.', 'I LIKE pizza!']\n",
        "- output: 각 문장의 정수 인덱싱으로, nested list 형태입니다. ex) [[1, 2, 3, 4], [1, 5, 6]]\n",
        "- 조건 1: 어휘 사전(`self.word_dict`)에 없는 단어는 'oov'의 index로 변환합니다."
      ],
      "metadata": {
        "id": "NWNq857cz5Ho"
      }
    },
    {
      "cell_type": "code",
      "source": [
        "import tensorflow.keras.preprocessing.text\n",
        "from sklearn.feature_extraction.text import CountVectorizer\n",
        "from math import log"
      ],
      "metadata": {
        "id": "P52QAuYR2N57"
      },
      "execution_count": 1,
      "outputs": []
    },
    {
      "cell_type": "code",
      "source": [
        "sequences = ['I go to school.', 'I LIKE pizza!']"
      ],
      "metadata": {
        "id": "eVdlxVp42xRk"
      },
      "execution_count": 2,
      "outputs": []
    },
    {
      "cell_type": "code",
      "source": [
        "class Tokenizer():\n",
        "    def __init__(self):\n",
        "        self.word_dict = {'oov': 0}\n",
        "        self.fit_checker = False\n",
        "\n",
        "    def preprocessing(self, sequences):\n",
        "        result = []\n",
        "        for sentence in sequences:\n",
        "            result.append(tensorflow.keras.preprocessing.text.text_to_word_sequence(sentence))\n",
        "        return result\n",
        "\n",
        "    def fit(self, sequences):\n",
        "        self.fit_checker = False\n",
        "        tokenizer = tensorflow.keras.preprocessing.text.Tokenizer()\n",
        "        tokenizer.fit_on_texts(self.preprocessing(sequences))\n",
        "        self.word_dict.update(tokenizer.word_index)\n",
        "        self.fit_checker = True\n",
        "\n",
        "    def transform(self, sequences):\n",
        "        result = []\n",
        "        tokens = self.preprocessing(sequences)\n",
        "        if self.fit_checker:\n",
        "            result = tokens\n",
        "            for i, sen in enumerate(tokens):\n",
        "                for j, word in enumerate(sen):\n",
        "                    try:\n",
        "                        result[i][j]=self.word_dict[word]\n",
        "                    except KeyError:\n",
        "                        result[i][j]=self.word_dict['oov']\n",
        "\n",
        "            return result\n",
        "        else:\n",
        "            raise Exception(\"Tokenizer instance is not fitted yet.\")\n",
        "        \n",
        "    def fit_transform(self, sequences):\n",
        "        self.fit(sequences)\n",
        "        result = self.transform(sequences)\n",
        "        return result"
      ],
      "metadata": {
        "id": "X-nf6sStz4vZ"
      },
      "execution_count": 3,
      "outputs": []
    },
    {
      "cell_type": "code",
      "source": [
        "tt = Tokenizer()\n",
        "tt.fit_transform(sequences)"
      ],
      "metadata": {
        "colab": {
          "base_uri": "https://localhost:8080/"
        },
        "id": "K4PCg9wuMwJL",
        "outputId": "9042809e-fcee-4559-c22a-7ca233a03451"
      },
      "execution_count": 8,
      "outputs": [
        {
          "output_type": "execute_result",
          "data": {
            "text/plain": [
              "[[1, 2, 3, 4], [1, 5, 6]]"
            ]
          },
          "metadata": {},
          "execution_count": 8
        }
      ]
    },
    {
      "cell_type": "markdown",
      "source": [
        "### **문제 2) TfidfVectorizer 생성하기**\n",
        "\n",
        "**2-1. `fit()`**\n",
        "\n",
        "입력 문장들을 이용해 IDF 행렬을 만드는 함수입니다.\n",
        "\n",
        "- input: 여러 영어 문장이 포함된 list 입니다. ex) ['I go to school.', 'I LIKE pizza!']\n",
        "- 조건 1: IDF 행렬은 list 형태입니다.\n",
        "    - ex) [토큰1에 대한 IDF 값, 토큰2에 대한 IDF 값, .... ]\n",
        "- 조건 2: IDF 값은 아래 식을 이용해 구합니다.\n",
        "$$ idf(d,t)=log_e(\\frac{n}{1+df(d,t)}) $$\n",
        "-$df(d,t)$ : 단어 t가 포함된 문장 d의 개수<br>\n",
        "-$n$ : 입력된 전체 문장 개수\n",
        "\n",
        "- 조건 3: 입력된 문장의 토큰화에는 문제 1에서 만든 Tokenizer를 사용합니다.\n",
        "    \n",
        "    \n",
        "\n",
        "**2-2. `transform()`**\n",
        "\n",
        "입력 문장들을 이용해 TF-IDF 행렬을 만드는 함수입니다.\n",
        "\n",
        "- input: 여러 영어 문장이 포함된 list입니다. ex) ['I go to school.', 'I LIKE pizza!']\n",
        "- output : nested list 형태입니다.\n",
        "    \n",
        "    ex) [[tf-idf(1, 1), tf-idf(1, 2), tf-idf(1, 3)], [tf-idf(2, 1), tf-idf(2, 2), tf-idf(2, 3)]]\n",
        "    \n",
        "|  | 토큰1 | 토큰2 | 토큰3 |\n",
        "| --- | --- | --- | --- |\n",
        "| 문장1 | tf-idf(1,1) | tf-idf(1,2) | tf-idf(1,3) |\n",
        "| 문장2 | tf-idf(2,1) | tf-idf(2,2) | tf-idf(2,3) |\n",
        "\n",
        "- 조건1 : 입력 문장을 이용해 TF 행렬을 만드세요.\n",
        "    - $tf(d, t)$ : 문장 d에 단어 t가 나타난 횟수\n",
        "- 조건2 : 문제 2-1( `fit()`)에서 만든 IDF 행렬과 아래 식을 이용해 TF-IDF 행렬을 만드세요\n",
        "    \n",
        "$$ tf-idf(d,t) = tf(d,t) \\times idf(d,t) $$"
      ],
      "metadata": {
        "id": "US1cI_ADz8fA"
      }
    },
    {
      "cell_type": "code",
      "execution_count": 5,
      "metadata": {
        "id": "r9ppE5hAzi-T"
      },
      "outputs": [],
      "source": [
        "class TfidfVectorizer:\n",
        "    def __init__(self, tokenizer):\n",
        "        self.tokenizer = tokenizer\n",
        "        self.fit_checker = False\n",
        "\n",
        "    def vocab(self):\n",
        "        voc = list(tt.word_dict.values())\n",
        "        voc.remove(0)\n",
        "        return voc\n",
        "        \n",
        "    def fit(self, sequences):\n",
        "        N = len(sequences)\n",
        "        tokenized = self.tokenizer.fit_transform(sequences)\n",
        "        vocabulary = self.vocab()\n",
        "        self.idf_matrix = []\n",
        "        for v in vocabulary:\n",
        "            df = 0\n",
        "            for sen in tokenized:\n",
        "                df += v in sen\n",
        "            idf = log(N/(1+df))\n",
        "            self.idf_matrix.append(idf)\n",
        "        self.fit_checker = True\n",
        "        return self.idf_matrix\n",
        "\n",
        "    def transform(self, sequences):\n",
        "        if self.fit_checker:\n",
        "            tokenized = self.tokenizer.transform(sequences)\n",
        "            vocabulary = self.vocab()\n",
        "            tf = [[sen.count(voc) for voc in vocabulary] for sen in tokenized]\n",
        "            self.tfidf_matrix = [[a*b for a, b in zip(tf[i], self.idf_matrix)] for i in range(len(tokenized))]\n",
        "            return self.tfidf_matrix\n",
        "        else:\n",
        "            raise Exception(\"TfidfVectorizer instance is not fitted yet.\")\n",
        "\n",
        "\n",
        "    def fit_transform(self, sequences):\n",
        "        self.fit(sequences)\n",
        "        return self.transform(sequences)"
      ]
    },
    {
      "cell_type": "code",
      "source": [
        "tfidvec = TfidfVectorizer(tt)\n",
        "tfidvec.fit_transform(sequences)"
      ],
      "metadata": {
        "id": "Cp_NFbsbtUIj",
        "colab": {
          "base_uri": "https://localhost:8080/"
        },
        "outputId": "28077a2a-8433-445b-ffcc-3f6a525db160"
      },
      "execution_count": 6,
      "outputs": [
        {
          "output_type": "execute_result",
          "data": {
            "text/plain": [
              "[[-0.40546510810816444, 0.0, 0.0, 0.0, 0.0, 0.0],\n",
              " [-0.40546510810816444, 0.0, 0.0, 0.0, 0.0, 0.0]]"
            ]
          },
          "metadata": {},
          "execution_count": 6
        }
      ]
    }
  ]
}